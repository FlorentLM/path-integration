{
 "cells": [
  {
   "cell_type": "code",
   "execution_count": 15,
   "metadata": {
    "collapsed": false
   },
   "outputs": [
    {
     "name": "stdout",
     "output_type": "stream",
     "text": [
      "The autoreload extension is already loaded. To reload it, use:\n",
      "  %reload_ext autoreload\n"
     ]
    }
   ],
   "source": [
    "%matplotlib inline\n",
    "%load_ext autoreload\n",
    "%autoreload 2\n",
    "\n",
    "import os\n",
    "import pickle\n",
    "\n",
    "import numpy as np\n",
    "import scipy as sp\n",
    "import matplotlib.pyplot as plt\n",
    "import matplotlib.patches as patches\n",
    "import matplotlib.transforms as transforms\n",
    "\n",
    "#from scipy.signal import lfilter\n",
    "#from math import atan2, degrees, radians\n",
    "\n",
    "import bee_simulator\n",
    "import central_complex\n",
    "import cx_basic\n",
    "import cx_rate\n",
    "\n",
    "import analysis\n",
    "import plotter2\n",
    "\n",
    "import modules"
   ]
  },
  {
   "cell_type": "code",
   "execution_count": 16,
   "metadata": {
    "collapsed": true
   },
   "outputs": [],
   "source": [
    "# Environment\n",
    "nest_radius = 15   # Area in which the agent feels like home\n",
    "feeder_radius = 20"
   ]
  },
  {
   "cell_type": "code",
   "execution_count": 31,
   "metadata": {
    "collapsed": false
   },
   "outputs": [],
   "source": [
    "# Set the cx model type and logger type here for easy access\n",
    "\n",
    "cx = cx_rate.CXRatePontinHolonomic(noise=0.1)   # Latest CX model with pontine cells + holonomic movement\n",
    "CXLogger = modules.trials2.CXLogger"
   ]
  },
  {
   "cell_type": "markdown",
   "metadata": {},
   "source": [
    "# Save / Load data"
   ]
  },
  {
   "cell_type": "code",
   "execution_count": null,
   "metadata": {
    "collapsed": true
   },
   "outputs": [],
   "source": [
    "def generate_fw_filename(Distances, Run_Success, **kwargs):\n",
    "    \n",
    "    filename = '{0}-to-{1}-by{2}_N{3}'.format(str(Distances[0]),\n",
    "                                              str(Distances[-1]),\n",
    "                                              str(len(Distances)),\n",
    "                                              str(Run_Success.shape[0]))\n",
    "    for k, v in kwargs.iteritems():\n",
    "        filename += '_' + k + str(v)\n",
    "    return filename + '.npz'\n",
    "\n",
    "def save_fw_data(Distances, Run_Success, Raw_Angular_Distances, Clean_Angular_Distances, Straightness_List, Real_Distances, Estim_Distances, Amplitudes, **kwargs):\n",
    "    filename = generate_fw_filename(Distances, Run_Success, **kwargs)\n",
    "    \n",
    "    np.savez(os.path.join(DATA_PATH, filename),\n",
    "             Distances = Distances,\n",
    "             Run_Success = Run_Success,\n",
    "             Raw_Angular_Distances = Raw_Angular_Distances,\n",
    "             Clean_Angular_Distances = Clean_Angular_Distances,\n",
    "             Straightness_List = Straightness_List,\n",
    "             Real_Distances = Real_Distances,\n",
    "             Estim_Distances = Estim_Distances, \n",
    "             Amplitudes = Amplitudes\n",
    "            )\n",
    "    \n",
    "def load_fw_data(filename=None):\n",
    "    \n",
    "    if filename is None:\n",
    "        return None\n",
    "    else:\n",
    "        \n",
    "        with np.load(os.path.join(DATA_PATH, filename)) as data:\n",
    "            Distances = data['Distances'],\n",
    "            Run_Success = data['Run_Success'],\n",
    "            Raw_Angular_Distances = data['Raw_Angular_Distances'],\n",
    "            Clean_Angular_Distances = data['Clean_Angular_Distances'],\n",
    "            Straightness_List = data['Straightness_List']\n",
    "\n",
    "        return Distances[0], Run_Success[0], Raw_Angular_Distances[0], Clean_Angular_Distances[0], Straightness_List"
   ]
  },
  {
   "cell_type": "markdown",
   "metadata": {},
   "source": [
    "# Repeat food-ward experiment"
   ]
  },
  {
   "cell_type": "code",
   "execution_count": null,
   "metadata": {
    "collapsed": true
   },
   "outputs": [],
   "source": [
    "# Do a lot of trials and return success, angular distance and other things\n",
    "\n",
    "N = 1000\n",
    "N_dists = 30\n",
    "\n",
    "max_dist = 20000\n",
    "min_dist = 500\n",
    "gain = 1.05\n",
    "\n",
    "Distances = np.round(np.linspace(min_dist, max_dist, num=N_dists)).astype(int)\n",
    "\n",
    "Run_Success = np.zeros((N, N_dists))\n",
    "Raw_Angular_Distances = np.zeros((N, N_dists))\n",
    "Clean_Angular_Distances = np.zeros((N, N_dists))\n",
    "Straightness_List = np.empty((N_dists, 500, N))\n",
    "\n",
    "Real_Distances = np.zeros((N, N_dists))\n",
    "Estim_Distances = np.zeros((N, N_dists))\n",
    "Amplitudes = np.zeros((N, N_dists))\n",
    "\n",
    "for d, distance in enumerate(Distances):\n",
    "    print distance\n",
    "    \n",
    "    run_success = np.zeros(N)\n",
    "    raw_ang_dist = np.zeros(N)\n",
    "    clean_ang_dist = np.zeros(N)\n",
    "    straightness_list = np.empty((500, N))\n",
    "    \n",
    "    real_distances = np.zeros(N)\n",
    "    estim_distances = np.zeros(N)\n",
    "    amplitudes = np.zeros(N)\n",
    "\n",
    "    for i in range(N):\n",
    "        \n",
    "        if i % 100 == 0:\n",
    "            print (i)\n",
    "        \n",
    "        h_p1, v_p1, T_p1, log_p1, success = move(goal_coord=None,\n",
    "                                                T_max=distance,\n",
    "                                                goal_radius=feeder_radius,\n",
    "                                                random_exploring=True,\n",
    "                                                arena=False,\n",
    "                                                stop_when_food=True,\n",
    "                                                logging=True,\n",
    "                                                return_success=True\n",
    "                                                )\n",
    "\n",
    "        goal = np.cumsum(v_p1, axis=0)[-1]\n",
    "\n",
    "        h_p2, v_p2, T_p2, log_p2, detection = move(goal_coord=goal,\n",
    "                                                T_max=distance,\n",
    "                                                ltm=log_p1.memory[:,-1],\n",
    "                                                goal_radius=feeder_radius,\n",
    "                                                random_exploring=False,\n",
    "                                                arena=False,\n",
    "                                                stop_when_food=True,\n",
    "                                                logging=True,\n",
    "                                                return_success=False,\n",
    "                                                inhib_gain=gain,\n",
    "                                                keep_searching=True\n",
    "                                                )\n",
    "\n",
    "        if len(detection) > 0:\n",
    "            success = 1\n",
    "        else:\n",
    "            success = 0\n",
    "\n",
    "        raw_angle = analysis2.simple_angular_distance(v_p2, goal, nb_steps=20)\n",
    "        clean_angle = analysis2.simple_angular_distance(v_p2, goal, nb_steps=20, nest_radius=nest_radius)\n",
    "        straightness, real_D = analysis2.compute_simple_path_straightness(v_p2, goal, return_dist=True)\n",
    "        \n",
    "        #estim_D = get_estimated_distance(cpu4=log_p2.cpu4[:,0], ltm=log_p1.memory[:,-1], cx=cx)\n",
    "        #amplitude = get_amplitude(cx.cpu4_inhibition(log_p2.cpu4[:,0], log_p1.memory[:,-1], gain=gain))\n",
    "        \n",
    "        run_success[i] = success\n",
    "        raw_ang_dist[i] = raw_angle\n",
    "        clean_ang_dist[i] = clean_angle\n",
    "        straightness_list[:,i] = straightness[0]\n",
    "\n",
    "        real_distances[i] = real_D\n",
    "        #estim_distances[i] = estim_D         \n",
    "        #amplitudes[i] = amplitude\n",
    "\n",
    "        \n",
    "    Run_Success[:, d] = run_success\n",
    "    Raw_Angular_Distances[:, d] = raw_ang_dist\n",
    "    Clean_Angular_Distances[:, d] = clean_ang_dist\n",
    "    Straightness_List[d, :, :] = straightness_list\n",
    "    \n",
    "    Real_Distances[:, d] = real_distances\n",
    "    #Estim_Distances[:, d] = estim_distances\n",
    "    #Amplitudes[:, d] = amplitudes\n",
    "\n",
    "np.nanmean(Run_Success, axis=0)*100, Distances"
   ]
  },
  {
   "cell_type": "code",
   "execution_count": null,
   "metadata": {
    "collapsed": true
   },
   "outputs": [],
   "source": [
    "# Save current results\n",
    "save_fw_data(Distances, Run_Success, Raw_Angular_Distances, Clean_Angular_Distances, Straightness_List, Real_Distances, Estim_Distances, Amplitudes)"
   ]
  },
  {
   "cell_type": "code",
   "execution_count": null,
   "metadata": {
    "collapsed": true
   },
   "outputs": [],
   "source": [
    "# Load previous results (format .npz)\n",
    "\n",
    "# Exemple, loading two sets of data\n",
    "Distances_1, Run_Success_1, Raw_Angular_Distances_1, Clean_Angular_Distances_1, Straightness_List_1 = load_fw_data(filename='100-to-2200-by10_N1000_gain1.05.npz')\n",
    "Distances_2, Run_Success_2, Raw_Angular_Distances_2, Clean_Angular_Distances_2, Straightness_List_2 = load_fw_data(filename='100-to-5000-by10_N1000_gain1.05.npz')"
   ]
  },
  {
   "cell_type": "code",
   "execution_count": null,
   "metadata": {
    "collapsed": true
   },
   "outputs": [],
   "source": [
    "# Concatenate and sort the two sets of distances + success to make one big set\n",
    "d = np.concatenate((Distances_1, Distances_2[1:]), axis=0) # We ignore the first one in the second set here because it's already in the first set\n",
    "D = np.sort(d)\n",
    "\n",
    "s = np.concatenate((Run_Success_1, Run_Success_2[:,1:]), axis=1)\n",
    "S = s[:,d.argsort()]"
   ]
  },
  {
   "cell_type": "code",
   "execution_count": null,
   "metadata": {
    "collapsed": true
   },
   "outputs": [],
   "source": [
    "plotter2.plot_success(D, S, color='purple')"
   ]
  },
  {
   "cell_type": "code",
   "execution_count": null,
   "metadata": {
    "collapsed": true
   },
   "outputs": [],
   "source": [
    "colors = [plotter2.cm.viridis(x) for x in np.linspace(0, 1, 19)]\n",
    "\n",
    "fig, ax = plotter2.plot_angular_distance_histogram(RA[:,0], figsize=(8,8), bins=72, color=colors[0])\n",
    "\n",
    "for i in range(1,19):\n",
    "    plotter2.plot_angular_distance_histogram(RA[:,i], bins=72, color=colors[i], ax=ax)\n",
    "\n",
    "cbax = fig.add_axes([1.02, 0.05, 0.02, 0.9])\n",
    "m = cm.ScalarMappable(cmap='viridis')\n",
    "m.set_array(np.linspace(100, 5000))\n",
    "fig.colorbar(m, cbax, ticks=[100, 1000, 2000, 3000, 4000, 5000])"
   ]
  },
  {
   "cell_type": "markdown",
   "metadata": {},
   "source": [
    "# Generate a lot of random walks (for shortcutting tests)"
   ]
  },
  {
   "cell_type": "code",
   "execution_count": null,
   "metadata": {
    "collapsed": true
   },
   "outputs": [],
   "source": [
    "R = 200\n",
    "n = 10\n",
    "\n",
    "D = np.round(np.linspace(5000, 20000, num=n)).astype(int)\n",
    "\n",
    "goals = np.zeros((R, 2))\n",
    "mems = np.zeros((R, 16))\n",
    "\n",
    "Mems = np.zeros((R, len(D), 16))\n",
    "Goals = np.zeros((R, len(D), 2))\n",
    "\n",
    "for d, distance in enumerate(D):\n",
    "    for i in range(R):\n",
    "\n",
    "        h_p1, v_p1, T_p1, log_p1, success = modules.move(goal_coord=None,\n",
    "                                                         T_max=distance,\n",
    "                                                         goal_radius=feeder_radius,\n",
    "                                                         random_exploring=True,\n",
    "                                                         arena=False,\n",
    "                                                         stop_when_food=True,\n",
    "                                                         logging=True,\n",
    "                                                         return_success=True\n",
    "                                                        )\n",
    "        mems[i,:] = log_p1.memory[:,-1]\n",
    "        goals[i,:] = np.cumsum(v_p1, axis=0)[-1]\n",
    "    Mems[:, d, :] = mems\n",
    "    Goals[:, d, :] = goals\n",
    "\n",
    "Mlist = Mems.reshape(n*R,16)\n",
    "Glist = Goals.reshape(n*R,2)"
   ]
  },
  {
   "cell_type": "code",
   "execution_count": null,
   "metadata": {
    "collapsed": true
   },
   "outputs": [],
   "source": [
    "# Save current feeder cloud data (memories and coordinates)\n",
    "\n",
    "with open('feeder_pool_coords.pickle', 'wb') as handle:\n",
    "    pickle.dump(Glist, handle, protocol=pickle.HIGHEST_PROTOCOL)\n",
    "    \n",
    "with open('feeder_pool_mems.pickle', 'wb') as handle:\n",
    "    pickle.dump(Mlist, handle, protocol=pickle.HIGHEST_PROTOCOL)"
   ]
  },
  {
   "cell_type": "code",
   "execution_count": null,
   "metadata": {
    "collapsed": true
   },
   "outputs": [],
   "source": [
    "# Load previous feeder cloud data (memories and coordinates)\n",
    "\n",
    "with open('feeder_pool_coords.pickle', 'rb') as handle:\n",
    "    Glist = pickle.load(handle)\n",
    "    \n",
    "with open('feeder_pool_mems.pickle', 'rb') as handle:\n",
    "    Mlist = pickle.load(handle)"
   ]
  },
  {
   "cell_type": "code",
   "execution_count": null,
   "metadata": {
    "collapsed": true
   },
   "outputs": [],
   "source": [
    "# Get all distances between all couples of feeders\n",
    "\n",
    "from math import hypot\n",
    "from itertools import combinations\n",
    "\n",
    "list_of_all_coords = []\n",
    "\n",
    "for f in range(0, 99):\n",
    "    x, y = Glist[f,:]\n",
    "    \n",
    "    list_of_all_coords.append((x,y))\n",
    "\n",
    "def eucldistance(p1, p2):\n",
    "    \"\"\"Euclidean distance between two points.\"\"\"\n",
    "    x1, y1 = p1\n",
    "    x2, y2 = p2\n",
    "    return hypot(x2 - x1, y2 - y1)\n",
    "\n",
    "list_of_all_dists = [eucldistance(*combo) for combo in combinations(list_of_all_coords, 2)]"
   ]
  },
  {
   "cell_type": "code",
   "execution_count": null,
   "metadata": {
    "collapsed": true
   },
   "outputs": [],
   "source": [
    "plotter2.plot_feeders_cloud(Glist, color='r', figsize=(8,8))\n",
    "plotter2.plot_feeders_hist(Glist, color='g', figsize=(8,8))\n",
    "plotter2.plot_relative_feeders_hist(list_of_all_dists, color='purple', figsize=(8,8))"
   ]
  },
  {
   "cell_type": "code",
   "execution_count": null,
   "metadata": {
    "collapsed": true
   },
   "outputs": [],
   "source": [
    "# Generate 1000 shortcut trials.\n",
    "# For that, pick a random couple of feeders from the cloud and try a food-ward route.\n",
    "# If food-ward route is successful, try the shortcut. If not, retry a new food-ward route, etc.\n",
    "\n",
    "N = 1001\n",
    "\n",
    "nb = G.shape[0]\n",
    "\n",
    "i = 0\n",
    "run_success = np.zeros(N)\n",
    "first_t = np.zeros(N)\n",
    "raw_ang_dist = np.zeros(N)\n",
    "clean_ang_dist = np.zeros(N)\n",
    "straightness_list = np.empty((500, N))\n",
    "\n",
    "real_distances = np.zeros(N)\n",
    "estim_distances = np.zeros(N)\n",
    "amplitudes = np.zeros(N)\n",
    "\n",
    "while i < N-1:\n",
    "\n",
    "    detection_p1 = 0\n",
    "    detection_p2 = 0\n",
    "    success = 0\n",
    "    \n",
    "    # This bit is to ensure the distance between the two picked feeders is not too small or too big\n",
    "    while True:\n",
    "        couple = np.random.choice(nb, 2, replace=False)\n",
    "        feederA = G[couple[0]]\n",
    "        feederB = G[couple[1]]\n",
    "        \n",
    "        if 10000 > fdistance(feederA, feederB) > 100:\n",
    "            break\n",
    "\n",
    "    memA = M[couple[0]]\n",
    "    memB = M[couple[1]]\n",
    "\n",
    "    h_p1, v_p1, T_p1, log_p1, detection_p1 = modules.move(goal_coord=feederA,\n",
    "                                                          T_max=5000,\n",
    "                                                          ltm=memA,\n",
    "                                                          goal_radius=20,\n",
    "                                                          random_exploring=False,\n",
    "                                                          arena=False,\n",
    "                                                          stop_when_food=True,\n",
    "                                                          logging=True,\n",
    "                                                          return_success=True,\n",
    "                                                          inhib_gain=1.05,\n",
    "                                                          keep_searching=False\n",
    "                                                         )\n",
    "    \n",
    "    if detection_p1 == 1:\n",
    "        i += 1\n",
    "        \n",
    "        h_p2, v_p2, T_p2, log_p2, detection_p2 = modules.move(goal_coord=feederB,\n",
    "                                                              start_coord=feederA,\n",
    "                                                              T_max=5000,\n",
    "                                                              memory=log_p1.memory[:,-1],\n",
    "                                                              tb1=log_p1.tb1[:,-1],\n",
    "                                                              ltm=memB,\n",
    "                                                              goal_radius=20,\n",
    "                                                              random_exploring=False,\n",
    "                                                              arena=False,\n",
    "                                                              stop_when_food=True,\n",
    "                                                              logging=True,\n",
    "                                                              return_success=True,\n",
    "                                                              inhib_gain=1.05,\n",
    "                                                              keep_searching=False\n",
    "                                                             )\n",
    "        if detection_p2 == 1:\n",
    "            success = 1\n",
    "\n",
    "        else:\n",
    "            success = 0\n",
    "    else:\n",
    "        success = 0\n",
    "\n",
    "    raw_angle = analysis2.simple_angular_distance(v_p2, feederB, start=feederA, nb_steps=20)\n",
    "    clean_angle = analysis2.simple_angular_distance(v_p2, feederB, start=feederA, nb_steps=20, nest_radius=nest_radius)\n",
    "    straightness, real_D = analysis2.compute_simple_path_straightness(v_p2, feederB, start=feederA, return_dist=True)\n",
    "\n",
    "    #estim_D = get_estimated_distance(cpu4=log_p2.cpu4[:,0], ltm=log_p1.memory[:,-1], cx=cx)\n",
    "    #amplitude = get_amplitude(log_p2.cpu4_inh[:,0])\n",
    "\n",
    "    run_success[i] = success\n",
    "\n",
    "    raw_ang_dist[i] = raw_angle\n",
    "    clean_ang_dist[i] = clean_angle\n",
    "    straightness_list[:,i] = straightness[0]\n",
    "\n",
    "    real_distances[i] = real_D\n",
    "    #estim_distances[i] = estim_D         \n",
    "    #amplitudes[i] = amplitude"
   ]
  },
  {
   "cell_type": "code",
   "execution_count": null,
   "metadata": {
    "collapsed": true
   },
   "outputs": [],
   "source": [
    "fig, ax = plotter2.plot_fw_route_straightness(straightness, color='purple')"
   ]
  }
 ],
 "metadata": {
  "kernelspec": {
   "display_name": "Python 2",
   "language": "python",
   "name": "python2"
  },
  "language_info": {
   "codemirror_mode": {
    "name": "ipython",
    "version": 2
   },
   "file_extension": ".py",
   "mimetype": "text/x-python",
   "name": "python",
   "nbconvert_exporter": "python",
   "pygments_lexer": "ipython2",
   "version": "2.7.13"
  }
 },
 "nbformat": 4,
 "nbformat_minor": 2
}
